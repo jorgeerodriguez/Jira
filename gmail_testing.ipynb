{
 "cells": [
  {
   "cell_type": "code",
   "execution_count": null,
   "id": "dd18b3f3",
   "metadata": {},
   "outputs": [],
   "source": [
    "# https://www.youtube.com/watch?v=QJobMzcmoMo\n"
   ]
  },
  {
   "cell_type": "code",
   "execution_count": 1,
   "id": "d144144b",
   "metadata": {},
   "outputs": [],
   "source": [
    "import os\n",
    "import json\n",
    "import smtplib\n",
    "from email.mime.text import MIMEText\n",
    "from email.mime.multipart import MIMEMultipart\n",
    "#from dotenv import load_dotenv"
   ]
  },
  {
   "cell_type": "code",
   "execution_count": 2,
   "id": "43561566",
   "metadata": {},
   "outputs": [],
   "source": [
    "# --- Configuration File Handling ---\n",
    "CONFIG_FILENAME = \"config.json\"\n",
    "\n",
    "def load_config(filepath=CONFIG_FILENAME):\n",
    "    \"\"\"\n",
    "    Loads configuration data from a JSON file.\n",
    "\n",
    "    Args:\n",
    "        filepath (str): The path to the configuration file.\n",
    "                        Defaults to CONFIG_FILENAME in the script's directory.\n",
    "\n",
    "    Returns:\n",
    "        dict: A dictionary containing the configuration data.\n",
    "              Returns None if the file cannot be read or parsed.\n",
    "    \"\"\"\n",
    "    config_path = os.path.join(os.getcwd(), filepath) # Look in the current working directory\n",
    "\n",
    "    if not os.path.exists(config_path):\n",
    "        print(f\"Error: Configuration file not found at '{config_path}'\")\n",
    "        print(\"Please create the file with your Jira server, email, and API token.\")\n",
    "        return None\n",
    "\n",
    "    try:\n",
    "        with open(config_path, 'r') as f:\n",
    "            config_data = json.load(f)\n",
    "            # Basic validation (check if essential keys exist)\n",
    "            required_keys = [\"email_address\", \"email_password\"]\n",
    "            if not all(key in config_data for key in required_keys):\n",
    "                missing = [key for key in required_keys if key not in config_data]\n",
    "                print(f\"Error: Configuration file '{config_path}' is missing required keys: {missing}\")\n",
    "                return None\n",
    "            # Optional: Add more specific validation (e.g., check if token is not empty)\n",
    "            if not config_data.get(\"email_password\"):\n",
    "                 print(f\"Error: 'email_password' found in '{config_path}' but it is empty.\")\n",
    "                 return None\n",
    "\n",
    "            print(f\"Successfully loaded configuration from '{config_path}'\")\n",
    "            return config_data\n",
    "\n",
    "    except json.JSONDecodeError as e:\n",
    "        print(f\"Error: Could not parse JSON in configuration file '{config_path}'.\")\n",
    "        print(f\"Details: {e}\")\n",
    "        return None\n",
    "    except Exception as e:\n",
    "        print(f\"Error: An unexpected error occurred while reading '{config_path}'.\")\n",
    "        print(f\"Details: {e}\")\n",
    "        return None"
   ]
  },
  {
   "cell_type": "code",
   "execution_count": 3,
   "id": "994e27f1",
   "metadata": {},
   "outputs": [
    {
     "name": "stdout",
     "output_type": "stream",
     "text": [
      "Successfully loaded configuration from '/Users/jorgerodriguez/Documents/GitHub/Jira/config.json'\n",
      "\n",
      "Credentials loaded:\n",
      "\n",
      "Script finished executing.\n"
     ]
    }
   ],
   "source": [
    "# Load configuration at the start\n",
    "config = load_config()\n",
    "\n",
    "if config is None:\n",
    "    print(\"Exiting due to configuration error.\")\n",
    "    sys.exit(1) # Exit with a non-zero code indicating an error\n",
    "\n",
    "# Now access credentials from the loaded config dictionary\n",
    "\n",
    "email_address = config.get(\"email_address\")\n",
    "email_password = config.get(\"email_password\")\n",
    "\n",
    "# --- You can now use these variables in your Jira connection logic ---\n",
    "# (Example snippet from previous code)\n",
    "# from jira import JIRA\n",
    "\n",
    "# print(f\"\\nConnecting to Jira at {JIRA_SERVER} using credentials from config...\")\n",
    "# try:\n",
    "#     jira_options = {'server': JIRA_SERVER}\n",
    "#     # Use the loaded credentials for basic_auth\n",
    "#     jira = JIRA(options=jira_options, basic_auth=(JIRA_EMAIL, JIRA_API_TOKEN))\n",
    "#     print(\"Successfully connected to Jira.\")\n",
    "#     # ... rest of your Jira interaction code ...\n",
    "\n",
    "# except Exception as e:\n",
    "#     print(f\"Failed to connect to Jira: {e}\")\n",
    "#     sys.exit(1)\n",
    "\n",
    "# --- Placeholder for rest of your script ---\n",
    "print(\"\\nCredentials loaded:\")\n",
    "#print(f\"  Email: {email_address}\")\n",
    "#print(f\"  Password: {'*' * len(email_password) if email_password else 'Not Loaded'}\")\n",
    "#print(f\"  Email: {jira_email}\")\n",
    "# Avoid printing the token itself for security!\n",
    "#print(f\"  API Token: {'*' * len(jira_token) if jira_token else 'Not Loaded'}\")\n",
    "\n",
    "# ... (Your code to fetch issues, visualize, etc. would go here) ...\n",
    "\n",
    "print(\"\\nScript finished executing.\")\n",
    "# --- End of Configuration File Handling ---\n"
   ]
  },
  {
   "cell_type": "code",
   "execution_count": 4,
   "id": "0bd62e77",
   "metadata": {},
   "outputs": [],
   "source": [
    "SMPT_SERVER = \"smtp.gmail.com\"\n",
    "SMTP_PORT = 587\n",
    "EMAIL_ADDRESS = email_address\n",
    "EMAIL_PASSWORD = email_password"
   ]
  },
  {
   "cell_type": "code",
   "execution_count": 17,
   "id": "d31d3a11",
   "metadata": {},
   "outputs": [],
   "source": [
    "def send_email(subject, body, to_email):\n",
    "\n",
    "    \"\"\"\n",
    "    Sends an email using SMTP.\n",
    "\n",
    "    Args:\n",
    "        subject (str): The subject of the email.\n",
    "        body (str): The body content of the email.\n",
    "        to_email (str): The recipient's email address.\n",
    "    \"\"\"\n",
    "    print(f\"Preparing to send email to {to_email}...\")\n",
    "    msg = MIMEMultipart()\n",
    "    msg['From'] = EMAIL_ADDRESS\n",
    "    msg['To'] = ', '.join(to_email)\n",
    "    msg['Subject'] = subject\n",
    "    print(f\"Subject: {subject}\")\n",
    "    print(f\"Body: {body}\")\n",
    "    # Add in the message body\n",
    "\n",
    "    # Attach the body with the msg instance\n",
    "    msg.attach(MIMEText(body, 'plain'))\n",
    "    print(f\"Connecting to SMTP server at {SMPT_SERVER}:{SMTP_PORT}...\")\n",
    "\n",
    "    server = None\n",
    "    try:\n",
    "        # Create a secure SSL context\n",
    "        server = smtplib.SMTP(SMPT_SERVER, SMTP_PORT)\n",
    "        #print(f\"Connecting to SMTP server at {SMPT_SERVER}:{SMTP_PORT}...\")\n",
    "        # Log in to the server\n",
    "        print(f\"Logging in as {EMAIL_ADDRESS}...\")\n",
    "        # Start TLS for security\n",
    "        server.starttls()  # Upgrade to a secure connection\n",
    "        server.login(EMAIL_ADDRESS, EMAIL_PASSWORD)\n",
    "        server.sendmail(EMAIL_ADDRESS, to_email, msg.as_string())\n",
    "        print(f\"Email sent successfully to {to_email}\")\n",
    "    except Exception as e:\n",
    "        print(f\"Failed to send email: {e}\")\n",
    "    finally:\n",
    "        if server is not None:\n",
    "            server.quit()"
   ]
  },
  {
   "cell_type": "code",
   "execution_count": 18,
   "id": "51d2d698",
   "metadata": {},
   "outputs": [
    {
     "name": "stdout",
     "output_type": "stream",
     "text": [
      "Preparing to send email to ['tri.jorge_rodriguez@yahoo.com', 'jorge.rodriguez@audacy.com']...\n",
      "Subject: Test Email\n",
      "Body: This is a test email sent from Python script.\n",
      "Connecting to SMTP server at smtp.gmail.com:587...\n",
      "Logging in as jorge.rodriguez@audacy.com...\n",
      "Email sent successfully to ['tri.jorge_rodriguez@yahoo.com', 'jorge.rodriguez@audacy.com']\n"
     ]
    }
   ],
   "source": [
    "to_email = [\"tri.jorge_rodriguez@yahoo.com\", \"jorge.rodriguez@audacy.com\"]\n",
    "subject = \"Test Email\"\n",
    "body = \"This is a test email sent from Python script.\"\n",
    "send_email(subject, body, to_email)\n",
    "# --- End of Email Sending Function ---"
   ]
  },
  {
   "cell_type": "code",
   "execution_count": null,
   "id": "bab19151",
   "metadata": {},
   "outputs": [],
   "source": []
  },
  {
   "cell_type": "code",
   "execution_count": 19,
   "id": "3317f6b2",
   "metadata": {},
   "outputs": [
    {
     "name": "stdout",
     "output_type": "stream",
     "text": [
      "The IP address of smtp.freesmtpservers.com is: 104.237.130.88\n"
     ]
    }
   ],
   "source": [
    "import socket\n",
    "\n",
    "hostname = 'smtp.freesmtpservers.com'\n",
    "try:\n",
    "    ip_address = socket.gethostbyname(hostname)\n",
    "    print(f\"The IP address of {hostname} is: {ip_address}\")\n",
    "except socket.gaierror as e:\n",
    "    print(f\"Error resolving {hostname}: {e}\")"
   ]
  }
 ],
 "metadata": {
  "kernelspec": {
   "display_name": "Python 3",
   "language": "python",
   "name": "python3"
  },
  "language_info": {
   "codemirror_mode": {
    "name": "ipython",
    "version": 3
   },
   "file_extension": ".py",
   "mimetype": "text/x-python",
   "name": "python",
   "nbconvert_exporter": "python",
   "pygments_lexer": "ipython3",
   "version": "3.12.4"
  }
 },
 "nbformat": 4,
 "nbformat_minor": 5
}
